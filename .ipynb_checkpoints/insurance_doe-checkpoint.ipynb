{
 "cells": [
  {
   "cell_type": "code",
   "execution_count": 139,
   "metadata": {},
   "outputs": [],
   "source": [
    "#import libs\n",
    "import numpy as np\n",
    "import pandas as pd"
   ]
  },
  {
   "cell_type": "code",
   "execution_count": 160,
   "metadata": {},
   "outputs": [],
   "source": [
    "file_to_open = r\"C:\\Users\\tgsto\\GitHub\\insurance_doe\\insurance parameters.txt\"\n",
    "sweep_file_to_open = r\"C:\\Users\\tgsto\\GitHub\\insurance_doe\\sweep parameters.txt\""
   ]
  },
  {
   "cell_type": "code",
   "execution_count": 166,
   "metadata": {},
   "outputs": [],
   "source": [
    "def read_param_file(file_to_open):\n",
    "    file_read = {}\n",
    "    with open(file_to_open) as fo:\n",
    "        for line in fo:\n",
    "            line_to_read = line.strip()\n",
    "            fields = line_to_read.split(\":\")\n",
    "            param = fields[0]\n",
    "            param_value = fields[1]\n",
    "            file_read.update({param:param_value})\n",
    "    return file_read\n",
    "\n",
    "def read_sweep_file(file_to_open):\n",
    "    file_read = {}\n",
    "    with open(file_to_open) as fo:\n",
    "        for line in fo:\n",
    "            line_to_read = line.strip()\n",
    "            fields = line_to_read.split(\":\")\n",
    "            param = fields[0]\n",
    "            param_min = fields[1]\n",
    "            param_max = fields[2]\n",
    "            file_read.update({param:[param_min, param_max]})\n",
    "    return file_read\n",
    "\n",
    "def check_floats(dic, print_on = 0):\n",
    "    for key in dic.keys():\n",
    "        try:\n",
    "            dic.update({key:float(dic[key])})\n",
    "        except ValueError:\n",
    "            if print_on == 1:\n",
    "                print(\"skipping: Value \", dic[key], \" is not a float...\")\n",
    "    return dic\n",
    "\n",
    "def check_ints(dic, print_on = 0):\n",
    "    for key in dic.keys():\n",
    "        try:\n",
    "            dic.update({key:int(dic[key])})\n",
    "        except ValueError:\n",
    "            if print_on == 1:\n",
    "                print(\"skipping: Value \", dic[key], \" is not a float...\")\n",
    "    return dic"
   ]
  },
  {
   "cell_type": "code",
   "execution_count": 167,
   "metadata": {},
   "outputs": [
    {
     "name": "stdout",
     "output_type": "stream",
     "text": [
      "{'Registration': 'KW10PHO', 'Value': 3600, 'Modification': 'No', 'Mileage': 10000}\n"
     ]
    }
   ],
   "source": [
    "file_read = read_param_file(file_to_open)\n",
    "output_dict = check_ints(file_read)\n",
    "print(output_dict)"
   ]
  },
  {
   "cell_type": "code",
   "execution_count": 170,
   "metadata": {},
   "outputs": [
    {
     "name": "stdout",
     "output_type": "stream",
     "text": [
      "{'Value': ['2000', '10000']}\n"
     ]
    }
   ],
   "source": [
    "sweep_read = read_sweep_file(sweep_file_to_open)\n",
    "print(sweep_read)"
   ]
  },
  {
   "cell_type": "code",
   "execution_count": null,
   "metadata": {},
   "outputs": [],
   "source": []
  }
 ],
 "metadata": {
  "kernelspec": {
   "display_name": "Python 3",
   "language": "python",
   "name": "python3"
  },
  "language_info": {
   "codemirror_mode": {
    "name": "ipython",
    "version": 3
   },
   "file_extension": ".py",
   "mimetype": "text/x-python",
   "name": "python",
   "nbconvert_exporter": "python",
   "pygments_lexer": "ipython3",
   "version": "3.7.6"
  }
 },
 "nbformat": 4,
 "nbformat_minor": 4
}
