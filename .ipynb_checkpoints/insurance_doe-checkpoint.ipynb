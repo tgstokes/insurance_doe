{
 "cells": [
  {
   "cell_type": "code",
   "execution_count": 40,
   "metadata": {},
   "outputs": [],
   "source": [
    "#import libs\n",
    "import numpy as np\n",
    "import pandas as pd\n",
    "from pyDOE import *\n",
    "import matplotlib as plt"
   ]
  },
  {
   "cell_type": "code",
   "execution_count": 31,
   "metadata": {},
   "outputs": [],
   "source": [
    "file_to_open = r\"C:\\Users\\tgsto\\GitHub\\insurance_doe\\insurance parameters.txt\"\n",
    "sweep_file_to_open = r\"C:\\Users\\tgsto\\GitHub\\insurance_doe\\sweep parameters.txt\""
   ]
  },
  {
   "cell_type": "code",
   "execution_count": 103,
   "metadata": {},
   "outputs": [],
   "source": [
    "def read_param_file(file_to_open):\n",
    "    file_read = {}\n",
    "    with open(file_to_open) as fo:\n",
    "        for line in fo:\n",
    "            line_to_read = line.strip()\n",
    "            fields = line_to_read.split(\":\")\n",
    "            param = fields[0]\n",
    "            param_value = fields[1]\n",
    "            file_read.update({param:param_value})\n",
    "    return file_read\n",
    "\n",
    "def read_sweep_file(file_to_open):\n",
    "    file_read = {}\n",
    "    with open(file_to_open) as fo:\n",
    "        for line in fo:\n",
    "            line_to_read = line.strip()\n",
    "            fields = line_to_read.split(\":\")\n",
    "            param = fields[0]\n",
    "            param_min = fields[1]\n",
    "            param_max = fields[2]\n",
    "            file_read.update({param:[param_min, param_max]})\n",
    "    return file_read\n",
    "\n",
    "def check_floats(dic, print_on = 0):\n",
    "    for key in dic.keys():\n",
    "        try:\n",
    "            dic.update({key:float(dic[key])})\n",
    "        except ValueError:\n",
    "            if print_on == 1:\n",
    "                print(\"skipping: Value \", dic[key], \" is not a float...\")\n",
    "    return dic\n",
    "\n",
    "def check_ints(dic, print_on = 0):\n",
    "    for key in dic.keys():\n",
    "        try:\n",
    "            dic.update({key:int(dic[key])})\n",
    "        except ValueError:\n",
    "            if print_on == 1:\n",
    "                print(\"skipping: Value \", dic[key], \" is not a float...\")\n",
    "    return dic\n",
    "\n",
    "def doe_size(dic, nsamples = \"auto\"):\n",
    "    n = len(dic)\n",
    "    if nsamples == \"auto\":\n",
    "        nsamples = n*2.5\n",
    "    elif not int(nsamples) == nsamples:\n",
    "        print(\"please either set nsamples to 'auto' or an integer\")\n",
    "    nsamples = int(nsamples)\n",
    "    return n, nsamples\n",
    "\n",
    "def generate_design(n, nsamples):\n",
    "    design = lhs(n,nsamples)\n",
    "    return design\n",
    "\n",
    "def format_design(design,dic):\n",
    "    pddf = pd.DataFrame(design, columns = dic.keys())\n",
    "    return pddf\n",
    "\n",
    "def denormalise_design(design,dic, print_on = 0):\n",
    "    for key in sweep_read.keys():\n",
    "        valmin = float(sweep_read[key][0])\n",
    "        valmax = float(sweep_read[key][1])\n",
    "        design[key] = (valmin + (valmax-valmin)*design[key])\n",
    "    if print_on == 1:\n",
    "        print(design[key])\n",
    "    return design"
   ]
  },
  {
   "cell_type": "code",
   "execution_count": 104,
   "metadata": {},
   "outputs": [
    {
     "name": "stdout",
     "output_type": "stream",
     "text": [
      "{'Registration': 'KW10PHO', 'Value': 3600, 'Modification': 'No', 'Mileage': 10000}\n"
     ]
    }
   ],
   "source": [
    "file_read = read_param_file(file_to_open)\n",
    "output_dict = check_ints(file_read)\n",
    "print(output_dict)"
   ]
  },
  {
   "cell_type": "code",
   "execution_count": 105,
   "metadata": {},
   "outputs": [
    {
     "name": "stdout",
     "output_type": "stream",
     "text": [
      "{'Value': ['2000', '10000'], 'Mileage': ['1000', '12000']}\n"
     ]
    }
   ],
   "source": [
    "sweep_read = read_sweep_file(sweep_file_to_open)\n",
    "print(sweep_read)"
   ]
  },
  {
   "cell_type": "code",
   "execution_count": 106,
   "metadata": {},
   "outputs": [],
   "source": [
    "[n,nsamples] = doe_size(sweep_read)\n",
    "design = generate_design(n,nsamples)\n",
    "design = format_design(design,sweep_read)"
   ]
  },
  {
   "cell_type": "code",
   "execution_count": 108,
   "metadata": {},
   "outputs": [
    {
     "data": {
      "text/html": [
       "<div>\n",
       "<style scoped>\n",
       "    .dataframe tbody tr th:only-of-type {\n",
       "        vertical-align: middle;\n",
       "    }\n",
       "\n",
       "    .dataframe tbody tr th {\n",
       "        vertical-align: top;\n",
       "    }\n",
       "\n",
       "    .dataframe thead th {\n",
       "        text-align: right;\n",
       "    }\n",
       "</style>\n",
       "<table border=\"1\" class=\"dataframe\">\n",
       "  <thead>\n",
       "    <tr style=\"text-align: right;\">\n",
       "      <th></th>\n",
       "      <th>Value</th>\n",
       "      <th>Mileage</th>\n",
       "    </tr>\n",
       "  </thead>\n",
       "  <tbody>\n",
       "    <tr>\n",
       "      <th>0</th>\n",
       "      <td>3391.541623</td>\n",
       "      <td>3262.850399</td>\n",
       "    </tr>\n",
       "    <tr>\n",
       "      <th>1</th>\n",
       "      <td>3744.673359</td>\n",
       "      <td>1381.580365</td>\n",
       "    </tr>\n",
       "    <tr>\n",
       "      <th>2</th>\n",
       "      <td>9798.925683</td>\n",
       "      <td>5986.930820</td>\n",
       "    </tr>\n",
       "    <tr>\n",
       "      <th>3</th>\n",
       "      <td>7532.369342</td>\n",
       "      <td>8868.381218</td>\n",
       "    </tr>\n",
       "    <tr>\n",
       "      <th>4</th>\n",
       "      <td>5847.558308</td>\n",
       "      <td>10764.993612</td>\n",
       "    </tr>\n",
       "  </tbody>\n",
       "</table>\n",
       "</div>"
      ],
      "text/plain": [
       "         Value       Mileage\n",
       "0  3391.541623   3262.850399\n",
       "1  3744.673359   1381.580365\n",
       "2  9798.925683   5986.930820\n",
       "3  7532.369342   8868.381218\n",
       "4  5847.558308  10764.993612"
      ]
     },
     "execution_count": 108,
     "metadata": {},
     "output_type": "execute_result"
    }
   ],
   "source": [
    "design = denormalise_design(design,sweep_read)\n",
    "design.head()"
   ]
  },
  {
   "cell_type": "code",
   "execution_count": null,
   "metadata": {},
   "outputs": [],
   "source": []
  }
 ],
 "metadata": {
  "kernelspec": {
   "display_name": "Python 3",
   "language": "python",
   "name": "python3"
  },
  "language_info": {
   "codemirror_mode": {
    "name": "ipython",
    "version": 3
   },
   "file_extension": ".py",
   "mimetype": "text/x-python",
   "name": "python",
   "nbconvert_exporter": "python",
   "pygments_lexer": "ipython3",
   "version": "3.7.6"
  }
 },
 "nbformat": 4,
 "nbformat_minor": 4
}
